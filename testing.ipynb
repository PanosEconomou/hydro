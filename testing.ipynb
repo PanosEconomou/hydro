{
 "cells": [
  {
   "cell_type": "code",
   "execution_count": 3,
   "metadata": {},
   "outputs": [],
   "source": [
    "# from grid import *\n",
    "# from HLL import *\n",
    "# from rk import *\n",
    "import numpy as np\n",
    "import matplotlib.pyplot as plt\n",
    "from matplotlib.animation import FuncAnimation\n",
    "from tqdm.notebook import tqdm\n",
    "\n",
    "%matplotlib widget"
   ]
  },
  {
   "cell_type": "code",
   "execution_count": 4,
   "metadata": {},
   "outputs": [
    {
     "ename": "NameError",
     "evalue": "name 'grid' is not defined",
     "output_type": "error",
     "traceback": [
      "\u001b[0;31m---------------------------------------------------------------------------\u001b[0m",
      "\u001b[0;31mNameError\u001b[0m                                 Traceback (most recent call last)",
      "\u001b[1;32m/Users/panos/Documents/NYU/6.Extracurricular/32.Astro/testing.ipynb Cell 2\u001b[0m in \u001b[0;36m8\n\u001b[1;32m      <a href='vscode-notebook-cell:/Users/panos/Documents/NYU/6.Extracurricular/32.Astro/testing.ipynb#W1sZmlsZQ%3D%3D?line=4'>5</a>\u001b[0m gamma       \u001b[39m=\u001b[39m \u001b[39m1.4\u001b[39m\n\u001b[1;32m      <a href='vscode-notebook-cell:/Users/panos/Documents/NYU/6.Extracurricular/32.Astro/testing.ipynb#W1sZmlsZQ%3D%3D?line=5'>6</a>\u001b[0m dt          \u001b[39m=\u001b[39m \u001b[39m0.001\u001b[39m\n\u001b[0;32m----> <a href='vscode-notebook-cell:/Users/panos/Documents/NYU/6.Extracurricular/32.Astro/testing.ipynb#W1sZmlsZQ%3D%3D?line=7'>8</a>\u001b[0m U \u001b[39m=\u001b[39m grid(dim,n_points,n_vars)\n\u001b[1;32m     <a href='vscode-notebook-cell:/Users/panos/Documents/NYU/6.Extracurricular/32.Astro/testing.ipynb#W1sZmlsZQ%3D%3D?line=9'>10</a>\u001b[0m \u001b[39m# Set up initial conditions\u001b[39;00m\n\u001b[1;32m     <a href='vscode-notebook-cell:/Users/panos/Documents/NYU/6.Extracurricular/32.Astro/testing.ipynb#W1sZmlsZQ%3D%3D?line=10'>11</a>\u001b[0m \u001b[39m# U[0][:n_points//2]  = 1.000\u001b[39;00m\n\u001b[1;32m     <a href='vscode-notebook-cell:/Users/panos/Documents/NYU/6.Extracurricular/32.Astro/testing.ipynb#W1sZmlsZQ%3D%3D?line=11'>12</a>\u001b[0m \u001b[39m# U[0][n_points//2:]  = 0.100\u001b[39;00m\n\u001b[1;32m     <a href='vscode-notebook-cell:/Users/panos/Documents/NYU/6.Extracurricular/32.Astro/testing.ipynb#W1sZmlsZQ%3D%3D?line=12'>13</a>\u001b[0m \u001b[39m# U[2][:n_points//2]  = 1.000/(gamma-1)\u001b[39;00m\n\u001b[1;32m     <a href='vscode-notebook-cell:/Users/panos/Documents/NYU/6.Extracurricular/32.Astro/testing.ipynb#W1sZmlsZQ%3D%3D?line=13'>14</a>\u001b[0m \u001b[39m# U[2][n_points//2:]  = 0.125/(gamma-1)\u001b[39;00m\n\u001b[1;32m     <a href='vscode-notebook-cell:/Users/panos/Documents/NYU/6.Extracurricular/32.Astro/testing.ipynb#W1sZmlsZQ%3D%3D?line=15'>16</a>\u001b[0m \u001b[39mdef\u001b[39;00m \u001b[39mcreate_circular_mask\u001b[39m(h, w, center\u001b[39m=\u001b[39m\u001b[39mNone\u001b[39;00m, radius\u001b[39m=\u001b[39m\u001b[39mNone\u001b[39;00m):\n",
      "\u001b[0;31mNameError\u001b[0m: name 'grid' is not defined"
     ]
    }
   ],
   "source": [
    "n_points    = 100\n",
    "dim         = 2\n",
    "n_vars      = 2+dim\n",
    "dx          = 1/n_points\n",
    "gamma       = 1.4\n",
    "dt          = 0.001\n",
    "\n",
    "U = grid(dim,n_points,n_vars)\n",
    "\n",
    "# Set up initial conditions\n",
    "# U[0][:n_points//2]  = 1.000\n",
    "# U[0][n_points//2:]  = 0.100\n",
    "# U[2][:n_points//2]  = 1.000/(gamma-1)\n",
    "# U[2][n_points//2:]  = 0.125/(gamma-1)\n",
    "\n",
    "def create_circular_mask(h, w, center=None, radius=None):\n",
    "\n",
    "    if center is None: # use the middle of the image\n",
    "        center = (int(w/2), int(h/2))\n",
    "    if radius is None: # use the smallest distance between the center and image walls\n",
    "        radius = min(center[0], center[1], w-center[0], h-center[1])\n",
    "\n",
    "    Y, X = np.ogrid[:h, :w]\n",
    "    dist_from_center = np.sqrt((X - center[0])**2 + (Y-center[1])**2)\n",
    "\n",
    "    mask = dist_from_center <= radius\n",
    "    return mask\n",
    "\n",
    "mask = create_circular_mask(*U[0].shape,radius=n_points*1/4)\n",
    "\n",
    "U[0] [:] = 0.1\n",
    "U[0] [n_points//3:(2*n_points)//3,n_points//3:(2*n_points)//4] = 1.00\n",
    "# U[0] [mask] = 1.00\n",
    "U[-1][:] = 0.125/(gamma-1)\n",
    "U[-1][n_points//3:(2*n_points)//3,n_points//3:(2*n_points)//4] = 1.00/(gamma-1)\n",
    "# U[-1] [mask] = 1.00/(gamma-1)"
   ]
  },
  {
   "cell_type": "code",
   "execution_count": 3,
   "metadata": {},
   "outputs": [],
   "source": [
    "# def step(U,dt,dx,gamma):\n",
    "#     return [u + dt* L for u, L in zip(U,HLL_div(U, gamma, dx))]"
   ]
  },
  {
   "cell_type": "code",
   "execution_count": 4,
   "metadata": {},
   "outputs": [
    {
     "data": {
      "application/vnd.jupyter.widget-view+json": {
       "model_id": "e8b4fc5a7de7415aaa7c860e18c653da",
       "version_major": 2,
       "version_minor": 0
      },
      "text/plain": [
       "  0%|          | 0/500 [00:00<?, ?it/s]"
      ]
     },
     "metadata": {},
     "output_type": "display_data"
    }
   ],
   "source": [
    "Us = [U]\n",
    "FRAMES = 500\n",
    "for i in tqdm(range(FRAMES)): Us.append(step(Us[-1], dt, HLL_div, gamma ,dx))"
   ]
  },
  {
   "cell_type": "code",
   "execution_count": 5,
   "metadata": {},
   "outputs": [
    {
     "data": {
      "application/vnd.jupyter.widget-view+json": {
       "model_id": "f7e4935940d2473aa44aa79a9eea65e9",
       "version_major": 2,
       "version_minor": 0
      },
      "image/png": "[encoded data removed]",
      "text/html": [
       "\n",
       "            <div style=\"display: inline-block;\">\n",
       "                <div class=\"jupyter-widgets widget-label\" style=\"text-align: center;\">\n",
       "                    Figure\n",
       "                </div>\n",
       "                <img src='data:image/png;base64,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' width=500.0/>\n",
       "            </div>\n",
       "        "
      ],
      "text/plain": [
       "Canvas(toolbar=Toolbar(toolitems=[('Home', 'Reset original view', 'home', 'home'), ('Back', 'Back to previous …"
      ]
     },
     "metadata": {},
     "output_type": "display_data"
    }
   ],
   "source": [
    "# PLOT AS ANIMATION\n",
    "fig = plt.figure(figsize=(5,5))\n",
    "ax  = fig.add_subplot(111)\n",
    "\n",
    "# line, = ax.plot(np.linspace(0,1,n_points), Us[0][0])\n",
    "show = ax.imshow(Us[0][0],interpolation='bicubic',cmap='viridis')\n",
    "# ax.set_xlim(0,1)\n",
    "# ax.set_ylim(0,1.1*U[0][0])\n",
    "\n",
    "def update(frame):\n",
    "    # line.set_ydata(Us[frame][0])\n",
    "    show.set_array(Us[frame][0])\n",
    "\n",
    "    return show,\n",
    "\n",
    "animation = FuncAnimation(fig=fig,func=update, frames=FRAMES, interval=1,blit=True)\n",
    "plt.show()"
   ]
  },
  {
   "cell_type": "code",
   "execution_count": 6,
   "metadata": {},
   "outputs": [],
   "source": [
    "# Q = [get_quantities(u,gamma) for u in Us]\n",
    "# E = [q[-2] for q in Q]"
   ]
  },
  {
   "cell_type": "code",
   "execution_count": 7,
   "metadata": {},
   "outputs": [],
   "source": [
    "# plt.figure()\n",
    "# plt.plot([np.max(e) for e in E])\n",
    "# plt.show()"
   ]
  },
  {
   "cell_type": "code",
   "execution_count": null,
   "metadata": {},
   "outputs": [],
   "source": []
  },
  {
   "cell_type": "code",
   "execution_count": null,
   "metadata": {},
   "outputs": [],
   "source": []
  }
 ],
 "metadata": {
  "kernelspec": {
   "display_name": "np_veclib",
   "language": "python",
   "name": "python3"
  },
  "language_info": {
   "codemirror_mode": {
    "name": "ipython",
    "version": 3
   },
   "file_extension": ".py",
   "mimetype": "text/x-python",
   "name": "python",
   "nbconvert_exporter": "python",
   "pygments_lexer": "ipython3",
   "version": "3.10.6"
  },
  "orig_nbformat": 4
 },
 "nbformat": 4,
 "nbformat_minor": 2
}
